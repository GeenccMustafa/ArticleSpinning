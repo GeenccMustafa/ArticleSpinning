{
  "nbformat": 4,
  "nbformat_minor": 0,
  "metadata": {
    "colab": {
      "provenance": [],
      "include_colab_link": true
    },
    "kernelspec": {
      "name": "python3",
      "display_name": "Python 3"
    },
    "language_info": {
      "name": "python"
    }
  },
  "cells": [
    {
      "cell_type": "markdown",
      "metadata": {
        "id": "view-in-github",
        "colab_type": "text"
      },
      "source": [
        "<a href=\"https://colab.research.google.com/github/GeenccMustafa/ArticleSpinning/blob/main/Article_Spinner.ipynb\" target=\"_parent\"><img src=\"https://colab.research.google.com/assets/colab-badge.svg\" alt=\"Open In Colab\"/></a>"
      ]
    },
    {
      "cell_type": "code",
      "metadata": {
        "colab": {
          "base_uri": "https://localhost:8080/"
        },
        "id": "-pC-nciJ-fG8",
        "outputId": "045ad8cd-8440-4d6b-b634-769fe30ac27a"
      },
      "source": [
        "# Downloading the dataset for BBC text document classification from Kaggle\n",
        "# https://www.kaggle.com/shivamkushwaha/bbc-full-text-document-classification\n",
        "!wget -nc https://lazyprogrammer.me/course_files/nlp/bbc_text_cls.csv"
      ],
      "execution_count": 1,
      "outputs": [
        {
          "output_type": "stream",
          "name": "stdout",
          "text": [
            "--2023-08-22 16:07:58--  https://lazyprogrammer.me/course_files/nlp/bbc_text_cls.csv\n",
            "Resolving lazyprogrammer.me (lazyprogrammer.me)... 104.21.23.210, 172.67.213.166, 2606:4700:3031::6815:17d2, ...\n",
            "Connecting to lazyprogrammer.me (lazyprogrammer.me)|104.21.23.210|:443... connected.\n",
            "HTTP request sent, awaiting response... 200 OK\n",
            "Length: 5085081 (4.8M) [text/csv]\n",
            "Saving to: ‘bbc_text_cls.csv’\n",
            "\n",
            "bbc_text_cls.csv    100%[===================>]   4.85M  5.09MB/s    in 1.0s    \n",
            "\n",
            "2023-08-22 16:08:00 (5.09 MB/s) - ‘bbc_text_cls.csv’ saved [5085081/5085081]\n",
            "\n"
          ]
        }
      ]
    },
    {
      "cell_type": "code",
      "metadata": {
        "id": "_GppeoomEN6u"
      },
      "source": [
        "# Importing necessary libraries for text processing and analysis\n",
        "import numpy as np\n",
        "import pandas as pd\n",
        "import textwrap\n",
        "import nltk\n",
        "from nltk import word_tokenize\n",
        "from nltk.tokenize.treebank import TreebankWordDetokenizer"
      ],
      "execution_count": 2,
      "outputs": []
    },
    {
      "cell_type": "code",
      "metadata": {
        "colab": {
          "base_uri": "https://localhost:8080/"
        },
        "id": "B6-xQcg7-NR8",
        "outputId": "c34b63d7-2013-4974-c3be-ca83d1b0e398"
      },
      "source": [
        "# Downloading the NLTK tokenizer models for text processing\n",
        "nltk.download('punkt')"
      ],
      "execution_count": 3,
      "outputs": [
        {
          "output_type": "stream",
          "name": "stderr",
          "text": [
            "[nltk_data] Downloading package punkt to /root/nltk_data...\n",
            "[nltk_data]   Unzipping tokenizers/punkt.zip.\n"
          ]
        },
        {
          "output_type": "execute_result",
          "data": {
            "text/plain": [
              "True"
            ]
          },
          "metadata": {},
          "execution_count": 3
        }
      ]
    },
    {
      "cell_type": "code",
      "metadata": {
        "id": "-o0ipzZ4ETW1"
      },
      "source": [
        "# Reading the dataset from the CSV file into a pandas DataFrame\n",
        "df = pd.read_csv('bbc_text_cls.csv')"
      ],
      "execution_count": 4,
      "outputs": []
    },
    {
      "cell_type": "code",
      "metadata": {
        "colab": {
          "base_uri": "https://localhost:8080/",
          "height": 206
        },
        "id": "djueWZYKEVsF",
        "outputId": "6678e853-866a-435e-85d3-89d4d581dc93"
      },
      "source": [
        "# Displaying the first few rows of the DataFrame for initial exploration\n",
        "df.head()"
      ],
      "execution_count": 5,
      "outputs": [
        {
          "output_type": "execute_result",
          "data": {
            "text/plain": [
              "                                                text    labels\n",
              "0  Ad sales boost Time Warner profit\\n\\nQuarterly...  business\n",
              "1  Dollar gains on Greenspan speech\\n\\nThe dollar...  business\n",
              "2  Yukos unit buyer faces loan claim\\n\\nThe owner...  business\n",
              "3  High fuel prices hit BA's profits\\n\\nBritish A...  business\n",
              "4  Pernod takeover talk lifts Domecq\\n\\nShares in...  business"
            ],
            "text/html": [
              "\n",
              "  <div id=\"df-5cc7a68c-3220-45db-8a11-78c369ecd819\" class=\"colab-df-container\">\n",
              "    <div>\n",
              "<style scoped>\n",
              "    .dataframe tbody tr th:only-of-type {\n",
              "        vertical-align: middle;\n",
              "    }\n",
              "\n",
              "    .dataframe tbody tr th {\n",
              "        vertical-align: top;\n",
              "    }\n",
              "\n",
              "    .dataframe thead th {\n",
              "        text-align: right;\n",
              "    }\n",
              "</style>\n",
              "<table border=\"1\" class=\"dataframe\">\n",
              "  <thead>\n",
              "    <tr style=\"text-align: right;\">\n",
              "      <th></th>\n",
              "      <th>text</th>\n",
              "      <th>labels</th>\n",
              "    </tr>\n",
              "  </thead>\n",
              "  <tbody>\n",
              "    <tr>\n",
              "      <th>0</th>\n",
              "      <td>Ad sales boost Time Warner profit\\n\\nQuarterly...</td>\n",
              "      <td>business</td>\n",
              "    </tr>\n",
              "    <tr>\n",
              "      <th>1</th>\n",
              "      <td>Dollar gains on Greenspan speech\\n\\nThe dollar...</td>\n",
              "      <td>business</td>\n",
              "    </tr>\n",
              "    <tr>\n",
              "      <th>2</th>\n",
              "      <td>Yukos unit buyer faces loan claim\\n\\nThe owner...</td>\n",
              "      <td>business</td>\n",
              "    </tr>\n",
              "    <tr>\n",
              "      <th>3</th>\n",
              "      <td>High fuel prices hit BA's profits\\n\\nBritish A...</td>\n",
              "      <td>business</td>\n",
              "    </tr>\n",
              "    <tr>\n",
              "      <th>4</th>\n",
              "      <td>Pernod takeover talk lifts Domecq\\n\\nShares in...</td>\n",
              "      <td>business</td>\n",
              "    </tr>\n",
              "  </tbody>\n",
              "</table>\n",
              "</div>\n",
              "    <div class=\"colab-df-buttons\">\n",
              "\n",
              "  <div class=\"colab-df-container\">\n",
              "    <button class=\"colab-df-convert\" onclick=\"convertToInteractive('df-5cc7a68c-3220-45db-8a11-78c369ecd819')\"\n",
              "            title=\"Convert this dataframe to an interactive table.\"\n",
              "            style=\"display:none;\">\n",
              "\n",
              "  <svg xmlns=\"http://www.w3.org/2000/svg\" height=\"24px\" viewBox=\"0 -960 960 960\">\n",
              "    <path d=\"M120-120v-720h720v720H120Zm60-500h600v-160H180v160Zm220 220h160v-160H400v160Zm0 220h160v-160H400v160ZM180-400h160v-160H180v160Zm440 0h160v-160H620v160ZM180-180h160v-160H180v160Zm440 0h160v-160H620v160Z\"/>\n",
              "  </svg>\n",
              "    </button>\n",
              "\n",
              "  <style>\n",
              "    .colab-df-container {\n",
              "      display:flex;\n",
              "      gap: 12px;\n",
              "    }\n",
              "\n",
              "    .colab-df-convert {\n",
              "      background-color: #E8F0FE;\n",
              "      border: none;\n",
              "      border-radius: 50%;\n",
              "      cursor: pointer;\n",
              "      display: none;\n",
              "      fill: #1967D2;\n",
              "      height: 32px;\n",
              "      padding: 0 0 0 0;\n",
              "      width: 32px;\n",
              "    }\n",
              "\n",
              "    .colab-df-convert:hover {\n",
              "      background-color: #E2EBFA;\n",
              "      box-shadow: 0px 1px 2px rgba(60, 64, 67, 0.3), 0px 1px 3px 1px rgba(60, 64, 67, 0.15);\n",
              "      fill: #174EA6;\n",
              "    }\n",
              "\n",
              "    .colab-df-buttons div {\n",
              "      margin-bottom: 4px;\n",
              "    }\n",
              "\n",
              "    [theme=dark] .colab-df-convert {\n",
              "      background-color: #3B4455;\n",
              "      fill: #D2E3FC;\n",
              "    }\n",
              "\n",
              "    [theme=dark] .colab-df-convert:hover {\n",
              "      background-color: #434B5C;\n",
              "      box-shadow: 0px 1px 3px 1px rgba(0, 0, 0, 0.15);\n",
              "      filter: drop-shadow(0px 1px 2px rgba(0, 0, 0, 0.3));\n",
              "      fill: #FFFFFF;\n",
              "    }\n",
              "  </style>\n",
              "\n",
              "    <script>\n",
              "      const buttonEl =\n",
              "        document.querySelector('#df-5cc7a68c-3220-45db-8a11-78c369ecd819 button.colab-df-convert');\n",
              "      buttonEl.style.display =\n",
              "        google.colab.kernel.accessAllowed ? 'block' : 'none';\n",
              "\n",
              "      async function convertToInteractive(key) {\n",
              "        const element = document.querySelector('#df-5cc7a68c-3220-45db-8a11-78c369ecd819');\n",
              "        const dataTable =\n",
              "          await google.colab.kernel.invokeFunction('convertToInteractive',\n",
              "                                                    [key], {});\n",
              "        if (!dataTable) return;\n",
              "\n",
              "        const docLinkHtml = 'Like what you see? Visit the ' +\n",
              "          '<a target=\"_blank\" href=https://colab.research.google.com/notebooks/data_table.ipynb>data table notebook</a>'\n",
              "          + ' to learn more about interactive tables.';\n",
              "        element.innerHTML = '';\n",
              "        dataTable['output_type'] = 'display_data';\n",
              "        await google.colab.output.renderOutput(dataTable, element);\n",
              "        const docLink = document.createElement('div');\n",
              "        docLink.innerHTML = docLinkHtml;\n",
              "        element.appendChild(docLink);\n",
              "      }\n",
              "    </script>\n",
              "  </div>\n",
              "\n",
              "\n",
              "<div id=\"df-beb18330-4e92-4dee-8d67-20547421d111\">\n",
              "  <button class=\"colab-df-quickchart\" onclick=\"quickchart('df-beb18330-4e92-4dee-8d67-20547421d111')\"\n",
              "            title=\"Suggest charts.\"\n",
              "            style=\"display:none;\">\n",
              "\n",
              "<svg xmlns=\"http://www.w3.org/2000/svg\" height=\"24px\"viewBox=\"0 0 24 24\"\n",
              "     width=\"24px\">\n",
              "    <g>\n",
              "        <path d=\"M19 3H5c-1.1 0-2 .9-2 2v14c0 1.1.9 2 2 2h14c1.1 0 2-.9 2-2V5c0-1.1-.9-2-2-2zM9 17H7v-7h2v7zm4 0h-2V7h2v10zm4 0h-2v-4h2v4z\"/>\n",
              "    </g>\n",
              "</svg>\n",
              "  </button>\n",
              "\n",
              "<style>\n",
              "  .colab-df-quickchart {\n",
              "    background-color: #E8F0FE;\n",
              "    border: none;\n",
              "    border-radius: 50%;\n",
              "    cursor: pointer;\n",
              "    display: none;\n",
              "    fill: #1967D2;\n",
              "    height: 32px;\n",
              "    padding: 0 0 0 0;\n",
              "    width: 32px;\n",
              "  }\n",
              "\n",
              "  .colab-df-quickchart:hover {\n",
              "    background-color: #E2EBFA;\n",
              "    box-shadow: 0px 1px 2px rgba(60, 64, 67, 0.3), 0px 1px 3px 1px rgba(60, 64, 67, 0.15);\n",
              "    fill: #174EA6;\n",
              "  }\n",
              "\n",
              "  [theme=dark] .colab-df-quickchart {\n",
              "    background-color: #3B4455;\n",
              "    fill: #D2E3FC;\n",
              "  }\n",
              "\n",
              "  [theme=dark] .colab-df-quickchart:hover {\n",
              "    background-color: #434B5C;\n",
              "    box-shadow: 0px 1px 3px 1px rgba(0, 0, 0, 0.15);\n",
              "    filter: drop-shadow(0px 1px 2px rgba(0, 0, 0, 0.3));\n",
              "    fill: #FFFFFF;\n",
              "  }\n",
              "</style>\n",
              "\n",
              "  <script>\n",
              "    async function quickchart(key) {\n",
              "      const charts = await google.colab.kernel.invokeFunction(\n",
              "          'suggestCharts', [key], {});\n",
              "    }\n",
              "    (() => {\n",
              "      let quickchartButtonEl =\n",
              "        document.querySelector('#df-beb18330-4e92-4dee-8d67-20547421d111 button');\n",
              "      quickchartButtonEl.style.display =\n",
              "        google.colab.kernel.accessAllowed ? 'block' : 'none';\n",
              "    })();\n",
              "  </script>\n",
              "</div>\n",
              "    </div>\n",
              "  </div>\n"
            ]
          },
          "metadata": {},
          "execution_count": 5
        }
      ]
    },
    {
      "cell_type": "code",
      "metadata": {
        "id": "W_CKZ7wOEWz0"
      },
      "source": [
        "# Extracting unique labels from the 'labels' column of the DataFrame\n",
        "labels = set(df['labels'])"
      ],
      "execution_count": 6,
      "outputs": []
    },
    {
      "cell_type": "code",
      "source": [
        "# Displaying the set of unique labels present in the dataset\n",
        "labels"
      ],
      "metadata": {
        "colab": {
          "base_uri": "https://localhost:8080/"
        },
        "id": "1DvvEqXLFIud",
        "outputId": "822c11b7-447e-4cf1-dcdb-8d25e6ddb384"
      },
      "execution_count": 7,
      "outputs": [
        {
          "output_type": "execute_result",
          "data": {
            "text/plain": [
              "{'business', 'entertainment', 'politics', 'sport', 'tech'}"
            ]
          },
          "metadata": {},
          "execution_count": 7
        }
      ]
    },
    {
      "cell_type": "code",
      "metadata": {
        "id": "fx4DC0f88z-V"
      },
      "source": [
        "# Selecting a specific label for training data extraction\n",
        "label = 'sport'"
      ],
      "execution_count": 8,
      "outputs": []
    },
    {
      "cell_type": "code",
      "metadata": {
        "colab": {
          "base_uri": "https://localhost:8080/"
        },
        "id": "vapk5Buh84_U",
        "outputId": "1c796b45-1e44-46e2-c928-1cb65376f80e"
      },
      "source": [
        "# Extracting text data associated with the selected label from the DataFrame\n",
        "texts = df[df['labels'] == label]['text']\n",
        "texts.head()"
      ],
      "execution_count": 9,
      "outputs": [
        {
          "output_type": "execute_result",
          "data": {
            "text/plain": [
              "1313    Claxton hunting first major medal\\n\\nBritish h...\n",
              "1314    O'Sullivan could run in Worlds\\n\\nSonia O'Sull...\n",
              "1315    Greene sets sights on world title\\n\\nMaurice G...\n",
              "1316    IAAF launches fight against drugs\\n\\nThe IAAF ...\n",
              "1317    Dibaba breaks 5,000m world record\\n\\nEthiopia'...\n",
              "Name: text, dtype: object"
            ]
          },
          "metadata": {},
          "execution_count": 9
        }
      ]
    },
    {
      "cell_type": "code",
      "source": [
        "import nltk\n",
        "from nltk import word_tokenize\n",
        "\n",
        "def collect_probs(texts):\n",
        "    \"\"\"\n",
        "    Collects counts of word transitions for a given list of texts.\n",
        "\n",
        "    Args:\n",
        "        texts (list): A list of text documents.\n",
        "\n",
        "    Returns:\n",
        "        dict: A dictionary containing word transition probabilities.\n",
        "              The keys are tuples of the form (w(t-1), w(t+1)),\n",
        "              and the values are dictionaries with w(t) as key and count(w(t)) as value.\n",
        "    \"\"\"\n",
        "\n",
        "    probs = {}  # key: (w(t-1), w(t+1)), value: {w(t): count(w(t))}\n",
        "\n",
        "    for doc in texts:\n",
        "        lines = doc.split(\"\\n\")\n",
        "        for line in lines:\n",
        "            tokens = word_tokenize(line)\n",
        "            for i in range(len(tokens) - 2):  # because I need 3 words in a row\n",
        "                t_0 = tokens[i]\n",
        "                t_1 = tokens[i + 1]\n",
        "                t_2 = tokens[i + 2]\n",
        "                key = (t_0, t_2)\n",
        "                if key not in probs:\n",
        "                    probs[key] = {}\n",
        "\n",
        "                # add count for middle token\n",
        "                if t_1 not in probs[key]:\n",
        "                    probs[key][t_1] = 1\n",
        "                else:\n",
        "                    probs[key][t_1] += 1\n",
        "\n",
        "    return probs\n"
      ],
      "metadata": {
        "id": "SqipX7nQFoBU"
      },
      "execution_count": 10,
      "outputs": []
    },
    {
      "cell_type": "code",
      "source": [
        "probs = collect_probs(texts)"
      ],
      "metadata": {
        "id": "qsQyOZPVF1nl"
      },
      "execution_count": 11,
      "outputs": []
    },
    {
      "cell_type": "code",
      "source": [
        "# normalize probabilities\n",
        "for key, d in probs.items():\n",
        "  # d should represent a distribution\n",
        "  total = sum(d.values())\n",
        "  for k, v in d.items():\n",
        "    d[k] = v / total"
      ],
      "metadata": {
        "id": "tYBk9JEYGGTv"
      },
      "execution_count": 12,
      "outputs": []
    },
    {
      "cell_type": "code",
      "source": [
        "def get_first_n_elements(dictionary, n):\n",
        "    return dict(list(dictionary.items())[:n])\n",
        "\n",
        "# Get the first 3 elements\n",
        "n = 3\n",
        "first_n_probs = get_first_n_elements(probs, n)\n",
        "\n",
        "# print first 3 probabilities\n",
        "print(first_n_probs)"
      ],
      "metadata": {
        "colab": {
          "base_uri": "https://localhost:8080/"
        },
        "id": "AYqIe6-sG7op",
        "outputId": "9c40890a-a808-42ef-bb30-88dcd45a4a61"
      },
      "execution_count": 17,
      "outputs": [
        {
          "output_type": "stream",
          "name": "stdout",
          "text": [
            "{('Claxton', 'first'): {'hunting': 1.0}, ('hunting', 'major'): {'first': 1.0}, ('first', 'medal'): {'major': 0.6, 'relay': 0.2, 'championship': 0.2}}\n"
          ]
        }
      ]
    },
    {
      "cell_type": "code",
      "source": [
        "# Splitting the text content of the first document into lines using newline characters\n",
        "texts.iloc[0].split(\"\\n\")"
      ],
      "metadata": {
        "colab": {
          "base_uri": "https://localhost:8080/"
        },
        "id": "K5InEFabHPB9",
        "outputId": "28c08fd0-8136-4f72-a796-a80229eb4e30"
      },
      "execution_count": 18,
      "outputs": [
        {
          "output_type": "execute_result",
          "data": {
            "text/plain": [
              "['Claxton hunting first major medal',\n",
              " '',\n",
              " \"British hurdler Sarah Claxton is confident she can win her first major medal at next month's European Indoor Championships in Madrid.\",\n",
              " '',\n",
              " 'The 25-year-old has already smashed the British record over 60m hurdles twice this season, setting a new mark of 7.96 seconds to win the AAAs title. \"I am quite confident,\" said Claxton. \"But I take each race as it comes. \"As long as I keep up my training but not do too much I think there is a chance of a medal.\" Claxton has won the national 60m hurdles title for the past three years but has struggled to translate her domestic success to the international stage. Now, the Scotland-born athlete owns the equal fifth-fastest time in the world this year. And at last week\\'s Birmingham Grand Prix, Claxton left European medal favourite Russian Irina Shevchenko trailing in sixth spot.',\n",
              " '',\n",
              " 'For the first time, Claxton has only been preparing for a campaign over the hurdles - which could explain her leap in form. In previous seasons, the 25-year-old also contested the long jump but since moving from Colchester to London she has re-focused her attentions. Claxton will see if her new training regime pays dividends at the European Indoors which take place on 5-6 March.']"
            ]
          },
          "metadata": {},
          "execution_count": 18
        }
      ]
    },
    {
      "cell_type": "code",
      "source": [
        "def spin_document(doc):\n",
        "    \"\"\"\n",
        "    Applies text spinning to a given document.\n",
        "\n",
        "    This function splits the input document into lines (paragraphs) and applies\n",
        "    the 'spin_line' function to each line. The spun lines are then rejoined into a new document.\n",
        "\n",
        "    Args:\n",
        "        doc (str): The input document as a single string.\n",
        "\n",
        "    Returns:\n",
        "        str: The spun document, where each line has been spun individually.\n",
        "    \"\"\"\n",
        "\n",
        "    # Splitting the document into lines (paragraphs)\n",
        "    lines = doc.split(\"\\n\")\n",
        "    output = []\n",
        "    for line in lines:\n",
        "        if line:\n",
        "            new_line = spin_line(line)  # Assuming 'spin_line' is defined elsewhere\n",
        "        else:\n",
        "            new_line = line\n",
        "        output.append(new_line)\n",
        "    return \"\\n\".join(output)\n"
      ],
      "metadata": {
        "id": "Excr0JvfHPEF"
      },
      "execution_count": 19,
      "outputs": []
    },
    {
      "cell_type": "code",
      "source": [
        "# Creating a TreebankWordDetokenizer instance for detokenization\n",
        "detokenizer = TreebankWordDetokenizer()"
      ],
      "metadata": {
        "id": "JLyYXRSrHPGU"
      },
      "execution_count": 20,
      "outputs": []
    },
    {
      "cell_type": "code",
      "source": [
        "def sample_word(d):\n",
        "    \"\"\"\n",
        "    Samples a word from a given distribution.\n",
        "\n",
        "    This function takes a dictionary representing a word distribution, where the keys are words\n",
        "    and the values are corresponding probabilities. It samples a word based on the given distribution.\n",
        "\n",
        "    Args:\n",
        "        d (dict): A dictionary representing a word distribution with words as keys and probabilities as values.\n",
        "\n",
        "    Returns:\n",
        "        str: A sampled word from the distribution.\n",
        "    Raises:\n",
        "        AssertionError: If the function encounters an unexpected condition during sampling.\n",
        "                       This assertion should never be triggered.\n",
        "    \"\"\"\n",
        "\n",
        "    p0 = np.random.random()\n",
        "    cumulative = 0\n",
        "    for t, p in d.items():\n",
        "        cumulative += p\n",
        "        if p0 < cumulative:\n",
        "            return t\n",
        "    assert False  # should never get here\n"
      ],
      "metadata": {
        "id": "4gZEIQvyHPIc"
      },
      "execution_count": 21,
      "outputs": []
    },
    {
      "cell_type": "code",
      "source": [
        "def spin_line(line):\n",
        "    \"\"\"\n",
        "    Apply text spinning to a given line of text.\n",
        "\n",
        "    This function takes a line of text, tokenizes it, and applies a word spinning process.\n",
        "    It replaces middle words with sampled words based on a given probability distribution.\n",
        "    The 'probs' dictionary is used to determine replacement probabilities.\n",
        "\n",
        "    Args:\n",
        "        line (str): The input line of text.\n",
        "\n",
        "    Returns:\n",
        "        str: The spun line of text after the word spinning process.\n",
        "    \"\"\"\n",
        "\n",
        "    tokens = word_tokenize(line)\n",
        "    i = 0\n",
        "    output = [tokens[0]]\n",
        "    while i < (len(tokens) - 2):\n",
        "        t_0 = tokens[i]\n",
        "        t_1 = tokens[i + 1]\n",
        "        t_2 = tokens[i + 2]\n",
        "        key = (t_0, t_2)\n",
        "        p_dist = probs[key]\n",
        "        if len(p_dist) > 1 and np.random.random() < 0.3:\n",
        "            # Replace the middle word\n",
        "            middle = sample_word(p_dist)\n",
        "            # output.append(t_1)  # Comment this line out if you want to see the replaced word\n",
        "            output.append(middle)  # New word to be added\n",
        "            output.append(t_2)\n",
        "\n",
        "            # Skip ahead 2 steps since the 3rd token is dependent on the middle token\n",
        "            i += 2\n",
        "        else:\n",
        "            # Keep the middle word as it is\n",
        "            output.append(t_1)\n",
        "            i += 1\n",
        "    # Append the final token only if there was no replacement\n",
        "    if i == len(tokens) - 2:\n",
        "        output.append(tokens[-1])\n",
        "    return detokenizer.detokenize(output)\n"
      ],
      "metadata": {
        "id": "VRLYHZwcH_MR"
      },
      "execution_count": 22,
      "outputs": []
    },
    {
      "cell_type": "code",
      "source": [
        "# Setting the random seed for reproducibility\n",
        "np.random.seed(42)"
      ],
      "metadata": {
        "id": "YA-fd5vpH_Oo"
      },
      "execution_count": 23,
      "outputs": []
    },
    {
      "cell_type": "code",
      "source": [
        "# Selecting a random index to choose a document from the 'texts' DataFrame\n",
        "i = np.random.choice(texts.shape[0])\n",
        "\n",
        "# Extracting the selected document at index 'i'\n",
        "doc = texts.iloc[i]\n",
        "\n",
        "# Applying text spinning to the selected document\n",
        "new_doc = spin_document(doc)\n"
      ],
      "metadata": {
        "id": "ZYuqjhcrIjJ6"
      },
      "execution_count": 24,
      "outputs": []
    },
    {
      "cell_type": "code",
      "source": [
        "# Printing the original document with text wrapping\n",
        "print(textwrap.fill(\n",
        "    doc, replace_whitespace=False, fix_sentence_endings=True))"
      ],
      "metadata": {
        "colab": {
          "base_uri": "https://localhost:8080/"
        },
        "id": "7-DHAKLIJlDE",
        "outputId": "c0a27d21-c64b-4d10-f468-728ea5bd464a"
      },
      "execution_count": 25,
      "outputs": [
        {
          "output_type": "stream",
          "name": "stdout",
          "text": [
            "Duff ruled out of Barcelona clash\n",
            "\n",
            "Chelsea's Damien Duff has been\n",
            "ruled out of Wednesday's Champions League clash with Barcelona at the\n",
            "Nou Camp.\n",
            "\n",
            "Duff sustained a knee injury in the FA Cup defeat at\n",
            "Newcastle and manager Jose Mourinho said: \"He cannot run.  His injury\n",
            "is very painful, so he is out.\"  But Mourinho has revealed defender\n",
            "Willian Gallas and striker Didier Drogba will be in the starting line-\n",
            "up.  The Blues boss took the unusual step of naming his side a day\n",
            "before the match, with Jole Cole named in midfield.  Mourinho said:\n",
            "\"We have one more session but I think Drogba will play, and Gallas\n",
            "will play.  \"Drogba trained on Monday with no problems and will do the\n",
            "same on Tuesday.  Gallas feels he can play and wants to play.  We are\n",
            "protecting him still but he will be okay to play.\"  Drogba, Chelsea's\n",
            "£24m striker, has missed the last three weeks through injury.\n",
            "\n",
            "Cech,\n",
            "Ferreira, Carvalho, Terry, Gallas, Tiago, Makelele, Lampard, Cole,\n",
            "Drogba, Gudjohnsen.\n"
          ]
        }
      ]
    },
    {
      "cell_type": "code",
      "source": [
        "# Printing the spun document with text wrapping\n",
        "print(textwrap.fill(\n",
        "    new_doc, replace_whitespace=False, fix_sentence_endings=True))\n"
      ],
      "metadata": {
        "colab": {
          "base_uri": "https://localhost:8080/"
        },
        "id": "NUnJ9kLBIjMK",
        "outputId": "45c5db97-0281-456b-9a3a-84096f676da0"
      },
      "execution_count": 26,
      "outputs": [
        {
          "output_type": "stream",
          "name": "stdout",
          "text": [
            "Duff ruled out of her clash\n",
            "\n",
            "Chelsea's Damien Duff has been ruled out\n",
            "on Wednesday's Champions League clash with victory at the Nou Camp.\n",
            "Duff had a knee injury at the FA Cup defeat at sprinting and manager\n",
            "Jose Mourinho said: \"I cannot run . His injury is very painful, so he\n",
            "pulled out .\" But Mourinho has revealed defender Willian Gallas and\n",
            "striker Didier Drogba will be in the starting line-up . The Toon boss\n",
            "took the unusual step of naming his side a day before the match, with\n",
            "Jole Cole named in midfield . Mourinho said: \"We have gained more, but\n",
            "I think Drogba will play, and Gallas will play . \"Drogba trained on\n",
            "Monday with no problems and will do the same on Tuesday . He feels he\n",
            "can play and wants to France . We are protecting him still but it will\n",
            "be challenging to respond .\" Drogba, Chelsea's £24m striker, has\n",
            "missed the last three weeks through injury.\n",
            "\n",
            "Cech, Shields, Carvalho,\n",
            "Terry, Gallas, Tiago, Fortune, Lampard, Shaw, Drogba, Horvath.\n"
          ]
        }
      ]
    },
    {
      "cell_type": "code",
      "source": [],
      "metadata": {
        "id": "h92OszyxvzgT"
      },
      "execution_count": null,
      "outputs": []
    }
  ]
}